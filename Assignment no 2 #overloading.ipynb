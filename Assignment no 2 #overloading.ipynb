{
 "cells": [
  {
   "cell_type": "code",
   "execution_count": 2,
   "id": "7c0fa918",
   "metadata": {},
   "outputs": [],
   "source": [
    "class Calculation():\n",
    "    def sum(self,*num):\n",
    "        return sum(num)"
   ]
  },
  {
   "cell_type": "code",
   "execution_count": 4,
   "id": "fd83fa7f",
   "metadata": {},
   "outputs": [
    {
     "name": "stdout",
     "output_type": "stream",
     "text": [
      "12\n",
      "21\n",
      "9\n",
      "20\n",
      "69\n"
     ]
    }
   ],
   "source": [
    "c1 = Calculation()\n",
    "print(c1.sum(5,7))\n",
    "print(c1.sum(4,8,9))\n",
    "print(c1.sum(9,0))\n",
    "print(c1.sum(7,8,5))\n",
    "print(c1.sum(4,5,60))"
   ]
  },
  {
   "cell_type": "code",
   "execution_count": null,
   "id": "f5806056",
   "metadata": {},
   "outputs": [],
   "source": []
  }
 ],
 "metadata": {
  "kernelspec": {
   "display_name": "Python 3 (ipykernel)",
   "language": "python",
   "name": "python3"
  },
  "language_info": {
   "codemirror_mode": {
    "name": "ipython",
    "version": 3
   },
   "file_extension": ".py",
   "mimetype": "text/x-python",
   "name": "python",
   "nbconvert_exporter": "python",
   "pygments_lexer": "ipython3",
   "version": "3.9.12"
  }
 },
 "nbformat": 4,
 "nbformat_minor": 5
}
